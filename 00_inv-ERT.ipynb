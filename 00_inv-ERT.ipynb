{
 "cells": [
  {
   "cell_type": "markdown",
   "id": "838f6f29-ba69-4f36-90b4-a5c0d9b2dd01",
   "metadata": {},
   "source": [
    "# Inversion of ERT transects"
   ]
  },
  {
   "cell_type": "code",
   "execution_count": null,
   "id": "b6b67332-0715-4a5d-9247-3bbfb32976c4",
   "metadata": {
    "tags": []
   },
   "outputs": [],
   "source": [
    "import numpy as np\n",
    "import matplotlib.pyplot as plt\n",
    "import pandas as pd\n",
    "from resipy import Project\n",
    "\n",
    "ERTdatadir = 'data/ERT/'"
   ]
  },
  {
   "cell_type": "code",
   "execution_count": 2,
   "id": "20cc8ab9",
   "metadata": {},
   "outputs": [],
   "source": [
    "# Parameters\n",
    "extract = 0.5 # 0.5 and 2.5"
   ]
  },
  {
   "cell_type": "markdown",
   "id": "c66be3cb-4bce-4480-8b62-4a16ac4445f5",
   "metadata": {},
   "source": [
    "## Middelkerke"
   ]
  },
  {
   "cell_type": "code",
   "execution_count": null,
   "id": "6b98eb9b-dde4-4693-ab6f-fcc8b9a26ec6",
   "metadata": {
    "tags": []
   },
   "outputs": [],
   "source": [
    "# reading electrode position\n",
    "dfm = pd.read_csv(ERTdatadir + 'electrode_locations_Middelkerke.csv')\n",
    "elec = np.zeros((120, 3))\n",
    "elec[:, 0] = dfm['distance'].values\n",
    "dfm.head()"
   ]
  },
  {
   "cell_type": "code",
   "execution_count": null,
   "id": "1a332bcf-c8fe-4383-a784-67fbb306320e",
   "metadata": {
    "tags": []
   },
   "outputs": [],
   "source": [
    "# invert\n",
    "km = Project()\n",
    "km.createSurvey(ERTdatadir + '23082301.csv', ftype='Syscal')\n",
    "km.setElec(elec)\n",
    "km.filterAppResist(vmin=0)\n",
    "km.showPseudo()\n",
    "km.filterRecip() \n",
    "km.fitErrorPwl()\n",
    "km.createMesh('trian')\n",
    "km.showMesh()"
   ]
  },
  {
   "cell_type": "code",
   "execution_count": null,
   "id": "8123ab16-058f-46e1-8151-a1f6d7cece17",
   "metadata": {
    "tags": []
   },
   "outputs": [],
   "source": [
    "# invert\n",
    "km.err = True  # use fitted error in the inversion\n",
    "km.invert()"
   ]
  },
  {
   "cell_type": "code",
   "execution_count": null,
   "id": "a42874dc-712b-48ee-8d29-600a67dcaa7a",
   "metadata": {
    "tags": []
   },
   "outputs": [],
   "source": [
    "# inverted transect\n",
    "fig, ax = plt.subplots(figsize=(10, 4))\n",
    "km.showResults(ax=ax, sens=False, attr='Resistivity(ohm.m)', vmin=0, vmax=20)\n",
    "\n",
    "fig.savefig(ERTdatadir + 'middelkerke-inv-ERT-'+'.jpg', dpi=300)"
   ]
  },
  {
   "cell_type": "code",
   "execution_count": 44,
   "id": "9faaa072-07d8-4617-9448-3b393824f0b3",
   "metadata": {
    "scrolled": true,
    "tags": []
   },
   "outputs": [],
   "source": [
    "# extract profiles\n",
    "m_m = km.meshResults[0]\n",
    "\n",
    "dfs = []\n",
    "for i in range(dfm.shape[0]):\n",
    "    row = dfm.loc[i, :]\n",
    "    ie = m_m.df['X'].between(row['distance'] - extract, row['distance'] + extract) & m_m.df['Z'].gt(-5) # 0.5 and 2.5\n",
    "    sdf = m_m.df[ie][['Z', 'Resistivity(ohm.m)']]\n",
    "    sdf['Z'] = sdf['Z'].round(1)\n",
    "    #sdf['Z'] = (sdf['Z'] * 2).round(1) / 2\n",
    "    sdf = sdf.groupby('Z').mean().reset_index()\n",
    "    sdf['easting'] = row['easting']\n",
    "    sdf['northing'] = row['northing']\n",
    "    sdf['ID'] = row['ID']\n",
    "    dfs.append(sdf)\n",
    "dfmi = pd.concat(dfs)\n",
    "\n",
    "dfmi.to_csv(ERTdatadir + 'middelkerke-inv-ERT-'+str(extract)+'.csv', index=False)"
   ]
  },
  {
   "cell_type": "code",
   "execution_count": null,
   "id": "225f7e39-346d-4155-ad2e-f1655525fe69",
   "metadata": {
    "tags": []
   },
   "outputs": [],
   "source": [
    "# figure of profiles\n",
    "fig, ax = plt.subplots()\n",
    "for el in dfm['ID'].unique():\n",
    "    ie = dfm['ID'].eq(el)\n",
    "    ax.plot(dfmi[ie]['Resistivity(ohm.m)'], dfmi[ie]['Z'], '-')\n",
    "ax.set_xlabel('Resistivity [Ohm.m]')\n",
    "ax.set_ylabel('Z [m]')\n",
    "fig.savefig(ERTdatadir + 'middelkerke-prof'+str(extract)+'.jpg')"
   ]
  },
  {
   "cell_type": "markdown",
   "id": "8b677aec-fdb9-4c4d-ac84-ebeef7ffe96e",
   "metadata": {},
   "source": [
    "## Proefhoeve"
   ]
  },
  {
   "cell_type": "code",
   "execution_count": null,
   "id": "68b25ca2-abbe-46f7-a083-c45d06461e28",
   "metadata": {
    "tags": []
   },
   "outputs": [],
   "source": [
    "# reading electrode position\n",
    "dfp = pd.read_csv(ERTdatadir + 'electrode_locations_Proefhoeve.csv')\n",
    "dfp = dfp[:-1]\n",
    "elec = np.zeros((60, 3))\n",
    "elec[:, 0] = dfp['distance'].values\n",
    "dfp.head()"
   ]
  },
  {
   "cell_type": "code",
   "execution_count": null,
   "id": "4c4deee9-85b4-4666-b10c-2a53f1a797e7",
   "metadata": {
    "tags": []
   },
   "outputs": [],
   "source": [
    "kp = Project()\n",
    "kp.createSurvey(ERTdatadir + '23082201.csv', ftype='Syscal')\n",
    "kp.setElec(elec)\n",
    "kp.filterAppResist(vmin=0)\n",
    "kp.showPseudo()\n",
    "kp.filterRecip() \n",
    "kp.fitErrorPwl()\n",
    "kp.createMesh('trian')\n",
    "kp.showMesh()"
   ]
  },
  {
   "cell_type": "code",
   "execution_count": null,
   "id": "e9b6fb02-511d-473a-8ffd-7f1c2fd8ff89",
   "metadata": {
    "tags": []
   },
   "outputs": [],
   "source": [
    "# invert\n",
    "kp.err = True  # use fitted error in the inversion\n",
    "kp.invert()"
   ]
  },
  {
   "cell_type": "code",
   "execution_count": null,
   "id": "fab13cdc-4033-442c-a890-7df469a99829",
   "metadata": {
    "tags": []
   },
   "outputs": [],
   "source": [
    "# inverted transect\n",
    "fig, ax = plt.subplots(figsize=(10, 4))\n",
    "kp.showResults(ax=ax, attr='Resistivity(ohm.m)', sens=False, vmin=4, vmax=40)\n",
    "\n",
    "fig.savefig(ERTdatadir + 'proefhoeve-inv-ERT-'+'.jpg', dpi=300)"
   ]
  },
  {
   "cell_type": "code",
   "execution_count": 47,
   "id": "6ac3f411-612c-4144-961a-e873de9d0fcb",
   "metadata": {
    "scrolled": true,
    "tags": []
   },
   "outputs": [],
   "source": [
    "# extract profiles\n",
    "mp = kp.meshResults[0]\n",
    "pd.set_option('display.max_rows', None)\n",
    "\n",
    "dfsp = []\n",
    "for i in range(dfp.shape[0]):\n",
    "    row = dfp.loc[i, :] # Each row of the original ERT positions\n",
    "    mask = mp.df['X'].between(row['distance'] - extract, row['distance'] + extract) & mp.df['Z'].gt(-5) # Mask for each element of the ERT \n",
    "    sdf = mp.df[mask][['Z', 'Resistivity(ohm.m)']] # Depth and resistivity of the filtered elements\n",
    "    sdf['Z'] = sdf['Z'].round(1)\n",
    "    sdf = sdf.groupby('Z').mean().reset_index() # Take the mean\n",
    "    sdf['easting'] = row['easting']\n",
    "    sdf['northing'] = row['northing']\n",
    "    sdf['ID'] = row['ID'] # After taking the mean, each profile is set in the original ID\n",
    "    dfsp.append(sdf)\n",
    "dfpi = pd.concat(dfsp)\n",
    "dfpi.to_csv(ERTdatadir + 'proefhoeve-inv-ERT-'+str(extract)+'.csv', index=False)"
   ]
  },
  {
   "cell_type": "code",
   "execution_count": null,
   "id": "c8772ef3-eefe-4c32-bfaa-61a48b62978a",
   "metadata": {
    "tags": []
   },
   "outputs": [],
   "source": [
    "# figure of profiles\n",
    "fig, ax = plt.subplots()\n",
    "for el in dfpi['ID'].unique():\n",
    "    ie = dfpi['ID'].eq(el)\n",
    "    ax.plot(dfpi[ie]['Resistivity(ohm.m)'], dfpi[ie]['Z'], '-')\n",
    "ax.set_xlabel('Resistivity [Ohm.m]')\n",
    "ax.set_ylabel('Z [m]')\n",
    "fig.savefig(ERTdatadir + 'proefhoeve-prof'+str(extract)+'.jpg')"
   ]
  },
  {
   "cell_type": "code",
   "execution_count": null,
   "id": "017b71e2-6822-4a59-ab4b-1a142cc3dfc2",
   "metadata": {},
   "outputs": [],
   "source": []
  }
 ],
 "metadata": {
  "kernelspec": {
   "display_name": "base",
   "language": "python",
   "name": "python3"
  },
  "language_info": {
   "codemirror_mode": {
    "name": "ipython",
    "version": 3
   },
   "file_extension": ".py",
   "mimetype": "text/x-python",
   "name": "python",
   "nbconvert_exporter": "python",
   "pygments_lexer": "ipython3",
   "version": "3.11.4"
  }
 },
 "nbformat": 4,
 "nbformat_minor": 5
}
