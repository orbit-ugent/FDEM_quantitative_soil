{
 "cells": [
  {
   "cell_type": "markdown",
   "id": "838f6f29-ba69-4f36-90b4-a5c0d9b2dd01",
   "metadata": {},
   "source": [
    "# Inversion of ERT transects"
   ]
  },
  {
   "cell_type": "code",
   "execution_count": null,
   "id": "b6b67332-0715-4a5d-9247-3bbfb32976c4",
   "metadata": {
    "tags": []
   },
   "outputs": [],
   "source": [
    "import numpy as np\n",
    "import matplotlib.pyplot as plt\n",
    "import pandas as pd\n",
    "import sys\n",
    "sys.path.append('../../../software/resipy/src/')\n",
    "from resipy import Project\n",
    "\n",
    "datadir = '../'"
   ]
  },
  {
   "cell_type": "markdown",
   "id": "c66be3cb-4bce-4480-8b62-4a16ac4445f5",
   "metadata": {},
   "source": [
    "## Middelkerke"
   ]
  },
  {
   "cell_type": "code",
   "execution_count": null,
   "id": "6b98eb9b-dde4-4693-ab6f-fcc8b9a26ec6",
   "metadata": {
    "tags": []
   },
   "outputs": [],
   "source": [
    "# reading electrode position\n",
    "df = pd.read_csv(datadir + 'ert/middelkerke/electrode_locations_Middelkerke.csv')\n",
    "elec = np.zeros((120, 3))\n",
    "elec[:, 0] = df['distance'].values\n",
    "df.head()"
   ]
  },
  {
   "cell_type": "code",
   "execution_count": null,
   "id": "1a332bcf-c8fe-4383-a784-67fbb306320e",
   "metadata": {
    "tags": []
   },
   "outputs": [],
   "source": [
    "# invert\n",
    "k = Project()\n",
    "k.createSurvey(datadir + 'ert/middelkerke/23082301.csv', ftype='Syscal')\n",
    "k.setElec(elec)\n",
    "k.filterAppResist(vmin=0)\n",
    "k.showPseudo()\n",
    "k.fitErrorPwl()\n",
    "k.createMesh('trian')\n",
    "k.showMesh()"
   ]
  },
  {
   "cell_type": "code",
   "execution_count": null,
   "id": "8123ab16-058f-46e1-8151-a1f6d7cece17",
   "metadata": {
    "tags": []
   },
   "outputs": [],
   "source": [
    "# invert\n",
    "k.err = True  # use fitted error in the inversion\n",
    "k.invert()"
   ]
  },
  {
   "cell_type": "code",
   "execution_count": null,
   "id": "a42874dc-712b-48ee-8d29-600a67dcaa7a",
   "metadata": {
    "tags": []
   },
   "outputs": [],
   "source": [
    "# inverted transect\n",
    "fig, ax = plt.subplots(figsize=(10, 4))\n",
    "k.showResults(ax=ax, sens=False, attr='Resistivity(ohm.m)', vmin=0, vmax=20)\n",
    "fig.savefig(datadir + 'middelkerke-inverted.jpg', dpi=300)"
   ]
  },
  {
   "cell_type": "code",
   "execution_count": null,
   "id": "9faaa072-07d8-4617-9448-3b393824f0b3",
   "metadata": {
    "scrolled": true,
    "tags": []
   },
   "outputs": [],
   "source": [
    "# extract profiles\n",
    "m = k.meshResults[0]\n",
    "dfs = []\n",
    "for i in range(df.shape[0]):\n",
    "    row = df.loc[i, :]\n",
    "    ie = m.df['X'].between(row['distance'] - 0.5, row['distance'] + 0.5) & m.df['Z'].gt(-5)\n",
    "    sdf = m.df[ie][['Z', 'Resistivity(ohm.m)']]\n",
    "    sdf['Z'] = sdf['Z'].round(1)\n",
    "    #sdf['Z'] = (sdf['Z'] * 2).round(1) / 2\n",
    "    sdf = sdf.groupby('Z').mean().reset_index()\n",
    "    sdf['easting'] = row['easting']\n",
    "    sdf['northing'] = row['northing']\n",
    "    sdf['nb_electrode'] = row['nb_electrode']\n",
    "    dfs.append(sdf)\n",
    "dfm = pd.concat(dfs)\n",
    "dfm.to_csv(datadir + 'middelkerke-profiles.csv', index=False)"
   ]
  },
  {
   "cell_type": "code",
   "execution_count": null,
   "id": "225f7e39-346d-4155-ad2e-f1655525fe69",
   "metadata": {
    "tags": []
   },
   "outputs": [],
   "source": [
    "# figure of profiles\n",
    "fig, ax = plt.subplots()\n",
    "for el in dfm['nb_electrode'].unique():\n",
    "    ie = dfm['nb_electrode'].eq(el)\n",
    "    ax.plot(dfm[ie]['Resistivity(ohm.m)'], dfm[ie]['Z'], '-')\n",
    "ax.set_xlabel('Resistivity [Ohm.m]')\n",
    "ax.set_ylabel('Z [m]')\n",
    "fig.savefig(datadir + 'middelkerke-prof.jpg')"
   ]
  },
  {
   "cell_type": "markdown",
   "id": "8b677aec-fdb9-4c4d-ac84-ebeef7ffe96e",
   "metadata": {},
   "source": [
    "## Proefhoeve"
   ]
  },
  {
   "cell_type": "code",
   "execution_count": null,
   "id": "68b25ca2-abbe-46f7-a083-c45d06461e28",
   "metadata": {
    "tags": []
   },
   "outputs": [],
   "source": [
    "# reading electrode position\n",
    "df = pd.read_csv(datadir + 'ert/proefhoeve/electrode_locations_Proefhoeve.csv')\n",
    "df = df[:-1]\n",
    "elec = np.zeros((60, 3))\n",
    "elec[:, 0] = df['distance'].values\n",
    "df.head()"
   ]
  },
  {
   "cell_type": "code",
   "execution_count": null,
   "id": "4c4deee9-85b4-4666-b10c-2a53f1a797e7",
   "metadata": {
    "tags": []
   },
   "outputs": [],
   "source": [
    "k = Project()\n",
    "k.createSurvey(datadir + 'ert/proefhoeve/23082201.csv', ftype='Syscal')\n",
    "k.setElec(elec)\n",
    "k.filterAppResist(vmin=0)\n",
    "k.showPseudo()\n",
    "k.fitErrorPwl()\n",
    "k.createMesh('trian', fmd=5)\n",
    "k.showMesh()"
   ]
  },
  {
   "cell_type": "code",
   "execution_count": null,
   "id": "e9b6fb02-511d-473a-8ffd-7f1c2fd8ff89",
   "metadata": {
    "tags": []
   },
   "outputs": [],
   "source": [
    "# invert\n",
    "k.err = True  # use fitted error in the inversion\n",
    "k.invert()"
   ]
  },
  {
   "cell_type": "code",
   "execution_count": null,
   "id": "fab13cdc-4033-442c-a890-7df469a99829",
   "metadata": {
    "tags": []
   },
   "outputs": [],
   "source": [
    "# inverted transect\n",
    "fig, ax = plt.subplots(figsize=(10, 4))\n",
    "k.showResults(ax=ax, attr='Resistivity(ohm.m)', sens=False, vmin=4, vmax=40)\n",
    "fig.savefig(datadir + 'proefhoeve-inverted.jpg', dpi=300)"
   ]
  },
  {
   "cell_type": "code",
   "execution_count": null,
   "id": "6ac3f411-612c-4144-961a-e873de9d0fcb",
   "metadata": {
    "scrolled": true,
    "tags": []
   },
   "outputs": [],
   "source": [
    "# extract profiles\n",
    "m = k.meshResults[0]\n",
    "dfs = []\n",
    "for i in range(df.shape[0]):\n",
    "    row = df.loc[i, :]\n",
    "    ie = m.df['X'].between(row['distance'] - 0.5, row['distance'] + 0.5) & m.df['Z'].gt(-5)\n",
    "    sdf = m.df[ie][['Z', 'Resistivity(ohm.m)']]\n",
    "    sdf['Z'] = sdf['Z'].round(1)\n",
    "    sdf = sdf.groupby('Z').mean().reset_index()\n",
    "    sdf['easting'] = row['easting']\n",
    "    sdf['northing'] = row['northing']\n",
    "    sdf['nb_electrode'] = row['nb_electrode']\n",
    "    dfs.append(sdf)\n",
    "dfm = pd.concat(dfs)\n",
    "dfm.to_csv(datadir + 'proefhoeve-profiles.csv', index=False)"
   ]
  },
  {
   "cell_type": "code",
   "execution_count": null,
   "id": "c8772ef3-eefe-4c32-bfaa-61a48b62978a",
   "metadata": {
    "tags": []
   },
   "outputs": [],
   "source": [
    "# figure of profiles\n",
    "fig, ax = plt.subplots()\n",
    "for el in dfm['nb_electrode'].unique():\n",
    "    ie = dfm['nb_electrode'].eq(el)\n",
    "    ax.plot(dfm[ie]['Resistivity(ohm.m)'], dfm[ie]['Z'], '-')\n",
    "ax.set_xlabel('Resistivity [Ohm.m]')\n",
    "ax.set_ylabel('Z [m]')\n",
    "fig.savefig(datadir + 'proefhoeve-prof.jpg')"
   ]
  },
  {
   "cell_type": "code",
   "execution_count": null,
   "id": "017b71e2-6822-4a59-ab4b-1a142cc3dfc2",
   "metadata": {},
   "outputs": [],
   "source": []
  }
 ],
 "metadata": {
  "kernelspec": {
   "display_name": "Python 3 (ipykernel)",
   "language": "python",
   "name": "python3"
  },
  "language_info": {
   "codemirror_mode": {
    "name": "ipython",
    "version": 3
   },
   "file_extension": ".py",
   "mimetype": "text/x-python",
   "name": "python",
   "nbconvert_exporter": "python",
   "pygments_lexer": "ipython3",
   "version": "3.10.11"
  }
 },
 "nbformat": 4,
 "nbformat_minor": 5
}
